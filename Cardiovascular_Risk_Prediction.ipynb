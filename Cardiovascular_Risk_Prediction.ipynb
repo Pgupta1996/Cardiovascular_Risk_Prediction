{
  "nbformat": 4,
  "nbformat_minor": 0,
  "metadata": {
    "colab": {
      "name": "Cardiovascular_Risk_Prediction.ipynb",
      "provenance": [],
      "collapsed_sections": [],
      "authorship_tag": "ABX9TyO/79kCJk5GpsIfvVf/Jdcx",
      "include_colab_link": true
    },
    "kernelspec": {
      "name": "python3",
      "display_name": "Python 3"
    },
    "language_info": {
      "name": "python"
    }
  },
  "cells": [
    {
      "cell_type": "markdown",
      "metadata": {
        "id": "view-in-github",
        "colab_type": "text"
      },
      "source": [
        "<a href=\"https://colab.research.google.com/github/Pgupta1996/Cardiovascular_Risk_Prediction/blob/main/Cardiovascular_Risk_Prediction.ipynb\" target=\"_parent\"><img src=\"https://colab.research.google.com/assets/colab-badge.svg\" alt=\"Open In Colab\"/></a>"
      ]
    },
    {
      "cell_type": "markdown",
      "source": [
        "**Cardiovascular Risk Prediction**"
      ],
      "metadata": {
        "id": "skHmTITZ7TCJ"
      }
    },
    {
      "cell_type": "markdown",
      "source": [
        "**1. Problem Description**\n",
        "\n",
        "The dataset is from an ongoing cardiovascular study on residents of the town of Framingham, Massachusetts. The classification goal is to predict whether the patient has a 10-year risk of future Coronary Heart Disease (CHD)."
      ],
      "metadata": {
        "id": "MFxya1ec8G-C"
      }
    },
    {
      "cell_type": "markdown",
      "source": [
        "**2. Data Description**\n",
        "\n",
        "The dataset provides the patients’ information. It includes over 4,000 records and 15 attributes.Variables Each attribute is a potential risk factor. There are both demographic, behavioral, and medical risk factors."
      ],
      "metadata": {
        "id": "AGLc_zAG9dJw"
      }
    },
    {
      "cell_type": "markdown",
      "source": [
        "**Attribute Information:**\n",
        "\n",
        "**Demographic**\n",
        "###Sex : male or female(\"M\" or \"F\")\n",
        "### Age: Age of the patient (Continuous)\n",
        "\n",
        "**Behavioral**\n",
        "\n",
        "### is_smoking: whether or not the patient is a current smoker (\"YES\" or \"NO\")\n",
        "### Cigs Per Day: the number of cigarettes that the person smoked on average in one day.(Continuous)\n",
        "### BP Meds: whether or not the patient was on blood pressure medication (Nominal)\n",
        "### Prevalent Stroke: whether or not the patient had previously had a stroke (Nominal)\n",
        "### Prevalent Hyp: whether or not the patient was hypertensive (Nominal)\n",
        "### Diabetes: whether or not the patient had diabetes (Nominal)\n",
        "### Tot Chol: total cholesterol level (Continuous)\n",
        "### Sys BP: systolic blood pressure (Continuous)\n",
        "### BMI: Body Mass Index (Continuous)\n",
        "### Heart Rate: heart rate (Continuous)\n",
        "### Glucose: glucose level (Continuous)\n",
        "\n",
        "**Predict variable (desired target)**\n",
        "\n",
        "### 10-year risk of coronary heart disease CHD(binary: “1”, means “Yes”, “0” means “No”)"
      ],
      "metadata": {
        "id": "ZPqNZZMT9wqt"
      }
    },
    {
      "cell_type": "code",
      "source": [
        ""
      ],
      "metadata": {
        "id": "2p8GSbrL8NQP"
      },
      "execution_count": null,
      "outputs": []
    },
    {
      "cell_type": "code",
      "source": [
        ""
      ],
      "metadata": {
        "id": "7uLoQd0i8NS4"
      },
      "execution_count": null,
      "outputs": []
    },
    {
      "cell_type": "code",
      "source": [
        ""
      ],
      "metadata": {
        "id": "d6XJIXEW8NW8"
      },
      "execution_count": null,
      "outputs": []
    },
    {
      "cell_type": "code",
      "source": [
        ""
      ],
      "metadata": {
        "id": "9NOl7-7K8NbG"
      },
      "execution_count": null,
      "outputs": []
    },
    {
      "cell_type": "code",
      "source": [
        ""
      ],
      "metadata": {
        "id": "KeUVmJQa8Ndf"
      },
      "execution_count": null,
      "outputs": []
    },
    {
      "cell_type": "code",
      "source": [
        ""
      ],
      "metadata": {
        "id": "TYvEHG5k8Ni_"
      },
      "execution_count": null,
      "outputs": []
    },
    {
      "cell_type": "code",
      "source": [
        ""
      ],
      "metadata": {
        "id": "KoHP7sTA8Nkq"
      },
      "execution_count": null,
      "outputs": []
    },
    {
      "cell_type": "code",
      "source": [
        ""
      ],
      "metadata": {
        "id": "1jHh88LB8Nmw"
      },
      "execution_count": null,
      "outputs": []
    }
  ]
}